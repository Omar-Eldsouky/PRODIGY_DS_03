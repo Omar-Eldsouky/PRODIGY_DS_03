{
 "cells": [
  {
   "cell_type": "code",
   "execution_count": 2,
   "metadata": {},
   "outputs": [
    {
     "data": {
      "text/plain": [
       "['bank-additional.zip', 'bank.zip']"
      ]
     },
     "execution_count": 2,
     "metadata": {},
     "output_type": "execute_result"
    }
   ],
   "source": [
    "import zipfile\n",
    "import os\n",
    "\n",
    "# Define the path to the uploaded ZIP file and the extraction directory\n",
    "zip_file_path = 'bank+marketing.zip'\n",
    "extraction_dir = 'bank_marketing_data/'\n",
    "\n",
    "# Extract the contents of the ZIP file\n",
    "with zipfile.ZipFile(zip_file_path, 'r') as zip_ref:\n",
    "    zip_ref.extractall(extraction_dir)\n",
    "\n",
    "# List the extracted files to understand the contents\n",
    "extracted_files = os.listdir(extraction_dir)\n",
    "extracted_files\n"
   ]
  },
  {
   "cell_type": "code",
   "execution_count": 3,
   "metadata": {},
   "outputs": [
    {
     "data": {
      "text/plain": [
       "['bank-names.txt',\n",
       " 'bank.csv',\n",
       " 'bank-additional.zip',\n",
       " 'bank.zip',\n",
       " '__MACOSX',\n",
       " 'bank-full.csv',\n",
       " 'bank-additional']"
      ]
     },
     "execution_count": 3,
     "metadata": {},
     "output_type": "execute_result"
    }
   ],
   "source": [
    "# Extract the contents of the two inner ZIP files\n",
    "for file_name in extracted_files:\n",
    "    file_path = os.path.join(extraction_dir, file_name)\n",
    "    with zipfile.ZipFile(file_path, 'r') as zip_ref:\n",
    "        zip_ref.extractall(extraction_dir)\n",
    "\n",
    "# List the files after extraction\n",
    "extracted_files_after = os.listdir(extraction_dir)\n",
    "extracted_files_after\n"
   ]
  },
  {
   "cell_type": "code",
   "execution_count": 4,
   "metadata": {},
   "outputs": [
    {
     "data": {
      "text/plain": [
       "(   age           job  marital  education default  balance housing loan  \\\n",
       " 0   58    management  married   tertiary      no     2143     yes   no   \n",
       " 1   44    technician   single  secondary      no       29     yes   no   \n",
       " 2   33  entrepreneur  married  secondary      no        2     yes  yes   \n",
       " 3   47   blue-collar  married    unknown      no     1506     yes   no   \n",
       " 4   33       unknown   single    unknown      no        1      no   no   \n",
       " \n",
       "    contact  day month  duration  campaign  pdays  previous poutcome   y  \n",
       " 0  unknown    5   may       261         1     -1         0  unknown  no  \n",
       " 1  unknown    5   may       151         1     -1         0  unknown  no  \n",
       " 2  unknown    5   may        76         1     -1         0  unknown  no  \n",
       " 3  unknown    5   may        92         1     -1         0  unknown  no  \n",
       " 4  unknown    5   may       198         1     -1         0  unknown  no  ,\n",
       "    age          job  marital  education default  balance housing loan  \\\n",
       " 0   30   unemployed  married    primary      no     1787      no   no   \n",
       " 1   33     services  married  secondary      no     4789     yes  yes   \n",
       " 2   35   management   single   tertiary      no     1350     yes   no   \n",
       " 3   30   management  married   tertiary      no     1476     yes  yes   \n",
       " 4   59  blue-collar  married  secondary      no        0     yes   no   \n",
       " \n",
       "     contact  day month  duration  campaign  pdays  previous poutcome   y  \n",
       " 0  cellular   19   oct        79         1     -1         0  unknown  no  \n",
       " 1  cellular   11   may       220         1    339         4  failure  no  \n",
       " 2  cellular   16   apr       185         1    330         1  failure  no  \n",
       " 3   unknown    3   jun       199         4     -1         0  unknown  no  \n",
       " 4   unknown    5   may       226         1     -1         0  unknown  no  )"
      ]
     },
     "execution_count": 4,
     "metadata": {},
     "output_type": "execute_result"
    }
   ],
   "source": [
    "import pandas as pd\n",
    "\n",
    "# Load the CSV files to inspect their contents\n",
    "bank_full_df = pd.read_csv(os.path.join(extraction_dir, 'bank-full.csv'), delimiter=';')\n",
    "bank_df = pd.read_csv(os.path.join(extraction_dir, 'bank.csv'), delimiter=';')\n",
    "\n",
    "# Display the first few rows of both datasets\n",
    "bank_full_head = bank_full_df.head()\n",
    "bank_head = bank_df.head()\n",
    "\n",
    "bank_full_head, bank_head\n"
   ]
  },
  {
   "cell_type": "code",
   "execution_count": 5,
   "metadata": {},
   "outputs": [
    {
     "name": "stdout",
     "output_type": "stream",
     "text": [
      "Accuracy: 0.87\n",
      "Classification Report:\n",
      "              precision    recall  f1-score   support\n",
      "\n",
      "          no       0.93      0.93      0.93     11966\n",
      "         yes       0.46      0.47      0.47      1598\n",
      "\n",
      "    accuracy                           0.87     13564\n",
      "   macro avg       0.70      0.70      0.70     13564\n",
      "weighted avg       0.87      0.87      0.87     13564\n",
      "\n"
     ]
    }
   ],
   "source": [
    "from sklearn.model_selection import train_test_split\n",
    "from sklearn.preprocessing import LabelEncoder\n",
    "from sklearn.tree import DecisionTreeClassifier\n",
    "from sklearn.metrics import classification_report, accuracy_score\n",
    "import pandas as pd\n",
    "\n",
    "# Load the dataset (assuming df is already loaded)\n",
    "# df = pd.read_csv('path_to_bank_full.csv', delimiter=';')\n",
    "\n",
    "# Prepare the data by encoding categorical features\n",
    "df = bank_full_df.copy()\n",
    "label_encoders = {}\n",
    "\n",
    "# Convert categorical columns to numeric using LabelEncoder\n",
    "for column in df.select_dtypes(include=['object']).columns:\n",
    "    le = LabelEncoder()\n",
    "    df[column] = le.fit_transform(df[column])\n",
    "    label_encoders[column] = le\n",
    "\n",
    "# Split the data into features and target\n",
    "X = df.drop(columns='y')\n",
    "y = df['y']\n",
    "\n",
    "# Split the data into training and test sets\n",
    "X_train, X_test, y_train, y_test = train_test_split(X, y, test_size=0.3, random_state=42)\n",
    "\n",
    "# Initialize and train the decision tree classifier\n",
    "clf = DecisionTreeClassifier(random_state=42)\n",
    "clf.fit(X_train, y_train)\n",
    "\n",
    "# Make predictions on the test set\n",
    "y_pred = clf.predict(X_test)\n",
    "\n",
    "# Evaluate the classifier\n",
    "accuracy = accuracy_score(y_test, y_pred)\n",
    "report = classification_report(y_test, y_pred, target_names=label_encoders['y'].classes_)\n",
    "\n",
    "print(f\"Accuracy: {accuracy:.2f}\")\n",
    "print(\"Classification Report:\")\n",
    "print(report)\n"
   ]
  },
  {
   "cell_type": "code",
   "execution_count": null,
   "metadata": {},
   "outputs": [],
   "source": []
  }
 ],
 "metadata": {
  "kernelspec": {
   "display_name": "Python 3",
   "language": "python",
   "name": "python3"
  },
  "language_info": {
   "codemirror_mode": {
    "name": "ipython",
    "version": 3
   },
   "file_extension": ".py",
   "mimetype": "text/x-python",
   "name": "python",
   "nbconvert_exporter": "python",
   "pygments_lexer": "ipython3",
   "version": "3.10.12"
  }
 },
 "nbformat": 4,
 "nbformat_minor": 2
}
